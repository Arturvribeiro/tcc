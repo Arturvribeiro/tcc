{
  "cells": [
    {
      "cell_type": "code",
      "execution_count": 1,
      "metadata": {
        "id": "T68DsYVsxNsA"
      },
      "outputs": [],
      "source": [
        "from keras.preprocessing.image import ImageDataGenerator\n",
        "from keras.models import Sequential\n",
        "from keras.layers import Conv2D, MaxPooling2D\n",
        "from keras.layers import Activation, Dropout, Flatten, Dense\n",
        "import os\n",
        "import numpy as np\n",
        "import pandas as pd\n",
        "import cv2\n",
        "from sklearn.model_selection import train_test_split\n",
        "from tensorflow import keras\n",
        "from PIL import Image\n",
        "import keras.utils as image\n",
        "import matplotlib.pyplot as plt\n",
        "from sklearn.metrics import confusion_matrix\n",
        "from sklearn.utils import class_weight\n",
        "import tensorflow as tf\n",
        "\n"
      ]
    },
    {
      "cell_type": "code",
      "execution_count": 2,
      "metadata": {
        "colab": {
          "base_uri": "https://localhost:8080/"
        },
        "id": "LurBVOXJn4pU",
        "outputId": "e7d1b3ce-2c48-41c6-8fba-a451ec9fde90"
      },
      "outputs": [
        {
          "output_type": "stream",
          "name": "stdout",
          "text": [
            "Mounted at /content/drive\n"
          ]
        }
      ],
      "source": [
        "from google.colab import drive\n",
        "drive.mount('/content/drive')"
      ]
    },
    {
      "cell_type": "code",
      "execution_count": null,
      "metadata": {
        "id": "GRjaxjvy9onx"
      },
      "outputs": [],
      "source": [
        "os.chdir('/content/base32cortadaIgualada/train')"
      ]
    },
    {
      "cell_type": "code",
      "execution_count": null,
      "metadata": {
        "colab": {
          "base_uri": "https://localhost:8080/"
        },
        "id": "RGUk9htSM-6l",
        "outputId": "0c888c73-4f89-433d-c356-196ef829cd55"
      },
      "outputs": [
        {
          "name": "stdout",
          "output_type": "stream",
          "text": [
            "/content/Vale-TCC\n"
          ]
        }
      ],
      "source": [
        "os.chdir('Vale-TCC')\n",
        "print(os.getcwd())"
      ]
    },
    {
      "cell_type": "code",
      "execution_count": null,
      "metadata": {
        "colab": {
          "base_uri": "https://localhost:8080/"
        },
        "id": "HzwG5X_dMBzc",
        "outputId": "5ba4223e-f1fa-4259-fb83-7badb512096c"
      },
      "outputs": [
        {
          "name": "stdout",
          "output_type": "stream",
          "text": [
            "/content\n"
          ]
        }
      ],
      "source": [
        "print(os.getcwd())"
      ]
    },
    {
      "cell_type": "code",
      "execution_count": null,
      "metadata": {
        "colab": {
          "base_uri": "https://localhost:8080/"
        },
        "id": "9KIa7o0qx28N",
        "outputId": "35fa3ef8-3873-401a-b802-b7aebf9aeb30"
      },
      "outputs": [
        {
          "name": "stdout",
          "output_type": "stream",
          "text": [
            "/content\n",
            "/content/drive/MyDrive/Vale - TCC\n"
          ]
        }
      ],
      "source": [
        "print(os.getcwd())\n",
        "os.chdir('drive/MyDrive/Vale - TCC')\n",
        "print(os.getcwd())#"
      ]
    },
    {
      "cell_type": "code",
      "execution_count": 3,
      "metadata": {
        "id": "AZqH4SjWIJsz"
      },
      "outputs": [],
      "source": [
        "# cria uma copia do zipado e atribui o nome vale-tcc\n",
        "!cp '/content/drive/MyDrive/Vale - TCC/base32cortadaIgualadaValidacao.zip' Vale-TCC"
      ]
    },
    {
      "cell_type": "code",
      "execution_count": 4,
      "metadata": {
        "id": "N9ftNII7MZwy"
      },
      "outputs": [],
      "source": [
        "#unizpa essa copia e a coloca no destino\n",
        "!unzip -uq Vale-TCC -d /content"
      ]
    },
    {
      "cell_type": "code",
      "execution_count": null,
      "metadata": {
        "colab": {
          "base_uri": "https://localhost:8080/"
        },
        "id": "N5ayWKjMlATi",
        "outputId": "c6371d59-2f97-4bc4-c99b-66c9df9c643b"
      },
      "outputs": [
        {
          "data": {
            "text/plain": [
              "(32, 32)"
            ]
          },
          "execution_count": 7,
          "metadata": {},
          "output_type": "execute_result"
        }
      ],
      "source": [
        "#estudo recorte imagem\n",
        "img = Image.open('base32/train/D - Medio Atrito/MCH004W21A_R_20190819_160400.png')\n",
        "img.size"
      ]
    },
    {
      "cell_type": "code",
      "execution_count": null,
      "metadata": {
        "colab": {
          "base_uri": "https://localhost:8080/",
          "height": 233
        },
        "id": "fmfwmN-L0dRa",
        "outputId": "81b65f60-3f5e-4807-882e-ac430910907b"
      },
      "outputs": [
        {
          "data": {
            "image/png": "[encoded data removed]",
            "text/plain": [
              "<PIL.PngImagePlugin.PngImageFile image mode=RGBA size=216x216 at 0x7F294A2C5490>"
            ]
          },
          "execution_count": 19,
          "metadata": {},
          "output_type": "execute_result"
        }
      ],
      "source": [
        "img"
      ]
    },
    {
      "cell_type": "code",
      "execution_count": null,
      "metadata": {
        "colab": {
          "base_uri": "https://localhost:8080/",
          "height": 49
        },
        "id": "A1cYtTDolwQg",
        "outputId": "9012a749-bcd1-4770-9edc-8e7a154e5091"
      },
      "outputs": [
        {
          "data": {
            "image/png": "[encoded data removed]",
            "text/plain": [
              "<PIL.Image.Image image mode=RGBA size=32x32 at 0x7F2938B95A10>"
            ]
          },
          "execution_count": 5,
          "metadata": {},
          "output_type": "execute_result"
        }
      ],
      "source": [
        "newsize = (32,32)\n",
        "img.resize(newsize)"
      ]
    },
    {
      "cell_type": "code",
      "execution_count": null,
      "metadata": {
        "colab": {
          "base_uri": "https://localhost:8080/"
        },
        "id": "VKvsX6CZrUEm",
        "outputId": "ed1ca812-526e-4b11-86ed-0f57f753d0ac"
      },
      "outputs": [
        {
          "data": {
            "text/plain": [
              "(['validation', '.ipynb_checkpoints', 'train'],\n",
              " ['D - Alto Atrito',\n",
              "  'D - Atraso Partida',\n",
              "  'D - Deslig Motor',\n",
              "  'D - Medio Atrito',\n",
              "  'D - Problema na Fase 2'])"
            ]
          },
          "execution_count": 32,
          "metadata": {},
          "output_type": "execute_result"
        }
      ],
      "source": [
        "dirs = os.listdir('base32' )\n",
        "defeitos = os.listdir('base32cortadaIgualada/train')\n",
        "dirs, defeitos"
      ]
    },
    {
      "cell_type": "code",
      "execution_count": null,
      "metadata": {
        "colab": {
          "base_uri": "https://localhost:8080/",
          "height": 338
        },
        "id": "aMV_6Wo5EXQM",
        "outputId": "6778f5b2-2605-4b59-bd74-8138c23f3d89"
      },
      "outputs": [
        {
          "name": "stdout",
          "output_type": "stream",
          "text": [
            "95\n",
            "1820\n",
            "12\n",
            "20\n",
            "360\n",
            "359\n"
          ]
        },
        {
          "ename": "KeyboardInterrupt",
          "evalue": "ignored",
          "output_type": "error",
          "traceback": [
            "\u001b[0;31m---------------------------------------------------------------------------\u001b[0m",
            "\u001b[0;31mKeyboardInterrupt\u001b[0m                         Traceback (most recent call last)",
            "\u001b[0;32m<ipython-input-12-1376ce9c3354>\u001b[0m in \u001b[0;36m<module>\u001b[0;34m\u001b[0m\n\u001b[1;32m      1\u001b[0m \u001b[0;32mfor\u001b[0m \u001b[0mi\u001b[0m \u001b[0;32min\u001b[0m \u001b[0mdirs\u001b[0m\u001b[0;34m:\u001b[0m\u001b[0;34m\u001b[0m\u001b[0;34m\u001b[0m\u001b[0m\n\u001b[1;32m      2\u001b[0m   \u001b[0;32mfor\u001b[0m \u001b[0mj\u001b[0m \u001b[0;32min\u001b[0m \u001b[0mdefeitos\u001b[0m\u001b[0;34m:\u001b[0m\u001b[0;34m\u001b[0m\u001b[0;34m\u001b[0m\u001b[0m\n\u001b[0;32m----> 3\u001b[0;31m     \u001b[0mleituras\u001b[0m \u001b[0;34m=\u001b[0m \u001b[0mos\u001b[0m\u001b[0;34m.\u001b[0m\u001b[0mlistdir\u001b[0m\u001b[0;34m(\u001b[0m\u001b[0;34m'base32/'\u001b[0m \u001b[0;34m+\u001b[0m \u001b[0mi\u001b[0m \u001b[0;34m+\u001b[0m \u001b[0;34m'/'\u001b[0m \u001b[0;34m+\u001b[0m \u001b[0mj\u001b[0m\u001b[0;34m)\u001b[0m\u001b[0;34m\u001b[0m\u001b[0;34m\u001b[0m\u001b[0m\n\u001b[0m\u001b[1;32m      4\u001b[0m     \u001b[0mprint\u001b[0m\u001b[0;34m(\u001b[0m\u001b[0mlen\u001b[0m\u001b[0;34m(\u001b[0m\u001b[0mleituras\u001b[0m\u001b[0;34m)\u001b[0m\u001b[0;34m)\u001b[0m\u001b[0;34m\u001b[0m\u001b[0;34m\u001b[0m\u001b[0m\n",
            "\u001b[0;31mKeyboardInterrupt\u001b[0m: "
          ]
        }
      ],
      "source": [
        "for i in dirs:\n",
        "  for j in defeitos:\n",
        "    leituras = os.listdir('base32/' + i + '/' + j)\n",
        "    print(len(leituras))"
      ]
    },
    {
      "cell_type": "code",
      "execution_count": null,
      "metadata": {
        "colab": {
          "base_uri": "https://localhost:8080/"
        },
        "id": "fc6GLgtmsBYe",
        "outputId": "11aff95e-ffe4-4f3d-e13e-018175df7427"
      },
      "outputs": [
        {
          "name": "stdout",
          "output_type": "stream",
          "text": [
            "D - Medio Atrito\n",
            "D - Defeito Não Identificado\n",
            "D - Problema Medicao\n",
            "D - Alto Atrito\n",
            "D - Problema na Fase 2\n",
            "D - Atraso Partida\n",
            "D - Múltiplos Acionamentos Simultâneos\n",
            "D - Deslig Motor\n",
            "D - Medio Atrito\n",
            "D - Defeito Não Identificado\n",
            "D - Problema Medicao\n",
            "D - Alto Atrito\n",
            "D - Problema na Fase 2\n",
            "D - Atraso Partida\n",
            "D - Múltiplos Acionamentos Simultâneos\n",
            "D - Deslig Motor\n"
          ]
        }
      ],
      "source": [
        "for i in dirs:\n",
        "  for j in defeitos:\n",
        "    leituras = os.listdir('base32/' + i + '/' + j)\n",
        "    \n",
        "    for k in leituras:\n",
        "      img = Image.open('base32/' + i + '/' + j + '/' + k)\n",
        "      img = img.resize(newsize)\n",
        "      img.save('base32/' + i + '/' + j + '/' + k, \"PNG\")\n",
        "    img.size\n",
        "    print(j)"
      ]
    },
    {
      "cell_type": "code",
      "execution_count": null,
      "metadata": {
        "id": "t-01s4dFCWU4"
      },
      "outputs": [],
      "source": [
        "os.chdir('train/D - Medio Atrito')"
      ]
    },
    {
      "cell_type": "code",
      "execution_count": null,
      "metadata": {
        "colab": {
          "base_uri": "https://localhost:8080/"
        },
        "id": "UbL6j6vvCO5s",
        "outputId": "2df2fcb7-359e-4821-ad51-dc4d1d364f75"
      },
      "outputs": [
        {
          "data": {
            "text/plain": [
              "['D - Alto Atrito',\n",
              " 'D - Atraso Partida',\n",
              " 'D - Deslig Motor',\n",
              " 'D - Medio Atrito',\n",
              " 'D - Problema na Fase 2']"
            ]
          },
          "execution_count": 40,
          "metadata": {},
          "output_type": "execute_result"
        }
      ],
      "source": [
        "os.listdir()"
      ]
    },
    {
      "cell_type": "code",
      "execution_count": null,
      "metadata": {
        "colab": {
          "base_uri": "https://localhost:8080/"
        },
        "id": "t_LO-9sTCGnf",
        "outputId": "b594060b-a321-4d9a-a209-e868baf12c68"
      },
      "outputs": [
        {
          "name": "stdout",
          "output_type": "stream",
          "text": [
            "3\n"
          ]
        }
      ],
      "source": [
        "print(len([name for name in os.listdir('.') if os.path.isfile(name)]))"
      ]
    },
    {
      "cell_type": "code",
      "execution_count": 105,
      "metadata": {
        "id": "uHrQ8M0Jxc_7"
      },
      "outputs": [],
      "source": [
        "# image dimensions, set as per your preference.\n",
        "img_width, img_height = 32, 32\n",
        "\n",
        "train_data_dir = 'base32cortadaIgualada/train'\n",
        "validation_data_dir = 'base32cortadaIgualada/validation'"
      ]
    },
    {
      "cell_type": "code",
      "execution_count": null,
      "metadata": {
        "id": "teXGaYRGWM1v"
      },
      "outputs": [],
      "source": [
        "#base nao oversampled\n",
        "batch_size = 128\n",
        "nb_train_samples = 14512\n",
        "nb_validation_samples = 3576\n",
        "epochs = 100"
      ]
    },
    {
      "cell_type": "code",
      "execution_count": null,
      "metadata": {
        "id": "ObkJ5VNvwhtB"
      },
      "outputs": [],
      "source": [
        "#base nao oversampled cortada\n",
        "batch_size = 128\n",
        "nb_train_samples = 9275\n",
        "nb_validation_samples = 2299\n",
        "epochs = 100"
      ]
    },
    {
      "cell_type": "code",
      "execution_count": null,
      "metadata": {
        "id": "yjqSMg5n9vYa"
      },
      "outputs": [],
      "source": [
        "#base oversampled\n",
        "batch_size = 128\n",
        "nb_train_samples = 37779 #14512\n",
        "nb_validation_samples = 2307 #3576\n",
        "epochs = 100"
      ]
    },
    {
      "cell_type": "code",
      "execution_count": 106,
      "metadata": {
        "id": "ysLdFoKx52q1"
      },
      "outputs": [],
      "source": [
        "#base oversampled na validacao tb\n",
        "batch_size = 128\n",
        "nb_train_samples = 37749 #14512\n",
        "nb_validation_samples = 9376\n",
        "epochs = 50"
      ]
    },
    {
      "cell_type": "code",
      "execution_count": 107,
      "metadata": {
        "id": "002bKMou9yqR"
      },
      "outputs": [],
      "source": [
        "train_datagen = ImageDataGenerator(rescale=1./255)\n",
        "#shear_range=0.2,\n",
        "#zoom_range=0.2,\n",
        "#horizontal_flip=True"
      ]
    },
    {
      "cell_type": "code",
      "execution_count": 108,
      "metadata": {
        "id": "KFLRRRux91-Z"
      },
      "outputs": [],
      "source": [
        "# rescaling\n",
        "test_datagen = ImageDataGenerator(rescale=1./255)"
      ]
    },
    {
      "cell_type": "code",
      "execution_count": 109,
      "metadata": {
        "colab": {
          "base_uri": "https://localhost:8080/"
        },
        "id": "K0uF5f4095ZR",
        "outputId": "926b27c2-3f10-401e-faeb-e6abfa474944"
      },
      "outputs": [
        {
          "output_type": "stream",
          "name": "stdout",
          "text": [
            "Found 37749 images belonging to 5 classes.\n"
          ]
        }
      ],
      "source": [
        "train_generator = train_datagen.flow_from_directory(\n",
        "train_data_dir,\n",
        "target_size=(img_width, img_height),\n",
        "shuffle=False,\n",
        "batch_size=batch_size,\n",
        "class_mode='categorical')"
      ]
    },
    {
      "cell_type": "code",
      "execution_count": null,
      "metadata": {
        "id": "_ET-g96JVtI_"
      },
      "outputs": [],
      "source": [
        "model = Sequential()\n",
        "model.add(Conv2D(32, (3, 3), input_shape=(32, 32, 3)))\n",
        "model.add(Activation('relu'))\n",
        "model.add(MaxPooling2D(pool_size=(2, 2)))\n",
        "\n",
        "model.add(Conv2D(32, (3, 3)))\n",
        "model.add(Activation('relu'))\n",
        "model.add(MaxPooling2D(pool_size=(2, 2)))\n",
        "\n",
        "model.add(Conv2D(64, (3, 3)))\n",
        "model.add(Activation('relu'))\n",
        "model.add(MaxPooling2D(pool_size=(2, 2)))# original eh 2,2\n",
        "\n",
        "model.add(Flatten())\n",
        "model.add(Dense(128))\n",
        "model.add(Activation('relu'))\n",
        "model.add(Dropout(0.5))\n",
        "model.add(Dense(5))\n",
        "model.add(Activation('sigmoid'))"
      ]
    },
    {
      "cell_type": "code",
      "execution_count": 130,
      "metadata": {
        "colab": {
          "base_uri": "https://localhost:8080/"
        },
        "id": "cVXXBN7f-MB5",
        "outputId": "0694f830-93e7-496f-d1b3-51c60d463556"
      },
      "outputs": [
        {
          "output_type": "stream",
          "name": "stdout",
          "text": [
            "Found 9376 images belonging to 5 classes.\n"
          ]
        }
      ],
      "source": [
        "validation_generator = test_datagen.flow_from_directory(\n",
        "validation_data_dir,\n",
        "shuffle=False,\n",
        "target_size=(img_width, img_height),\n",
        "batch_size=batch_size,\n",
        "class_mode='categorical')"
      ]
    },
    {
      "cell_type": "code",
      "execution_count": null,
      "metadata": {
        "id": "ZCSXiqZ3-UGP"
      },
      "outputs": [],
      "source": [
        "model = Sequential()\n",
        "model.add(Conv2D(32, (3, 3), input_shape=(32, 32, 3)))\n",
        "model.add(Activation('relu'))\n",
        "model.add(MaxPooling2D(pool_size=(4, 4)))\n",
        "\n",
        "model.add(Conv2D(32, (2, 2)))\n",
        "model.add(Activation('relu'))\n",
        "model.add(MaxPooling2D(pool_size=(2, 2)))\n",
        "\n",
        "model.add(Conv2D(32, (3, 3)))\n",
        "model.add(Activation('relu'))\n",
        "model.add(MaxPooling2D(pool_size=(1, 1))) # camada adicionada\n",
        "\n",
        "model.add(Conv2D(64, (1, 1)))\n",
        "model.add(Activation('relu'))\n",
        "model.add(MaxPooling2D(pool_size=(1, 1)))# original eh 2,2\n",
        "\n",
        "model.add(Flatten())\n",
        "model.add(Dense(128))\n",
        "model.add(Activation('relu'))\n",
        "model.add(Dropout(0.5))\n",
        "model.add(Dense(5))\n",
        "model.add(Activation('sigmoid'))"
      ]
    },
    {
      "cell_type": "code",
      "execution_count": null,
      "metadata": {
        "id": "x40SbJej-enq"
      },
      "outputs": [],
      "source": [
        "model.compile(loss='categorical_crossentropy',\n",
        "optimizer='adam',\n",
        "metrics=['acc'])"
      ]
    },
    {
      "cell_type": "code",
      "execution_count": null,
      "metadata": {
        "id": "TMHtMle0muat"
      },
      "outputs": [],
      "source": [
        "# Define some callbacks to improve training.\n",
        "early_stopping = keras.callbacks.EarlyStopping(monitor=\"val_loss\", patience=10)\n",
        "reduce_lr = keras.callbacks.ReduceLROnPlateau(monitor=\"val_loss\", patience=5)"
      ]
    },
    {
      "cell_type": "code",
      "execution_count": null,
      "metadata": {
        "colab": {
          "base_uri": "https://localhost:8080/"
        },
        "id": "gLPJf4_Xipyn",
        "outputId": "f0e8ea35-e62a-4c09-9040-c06cb8ac068a"
      },
      "outputs": [
        {
          "output_type": "execute_result",
          "data": {
            "text/plain": [
              "15"
            ]
          },
          "metadata": {},
          "execution_count": 24
        }
      ],
      "source": [
        "len(model.layers)"
      ]
    },
    {
      "cell_type": "code",
      "execution_count": null,
      "metadata": {
        "colab": {
          "base_uri": "https://localhost:8080/"
        },
        "id": "0kUMyy9XtLEM",
        "outputId": "4e9b07d3-ec0d-4fd9-b5f2-373dfeec43d3"
      },
      "outputs": [
        {
          "output_type": "stream",
          "name": "stdout",
          "text": [
            "Model: \"sequential_1\"\n",
            "_________________________________________________________________\n",
            " Layer (type)                Output Shape              Param #   \n",
            "=================================================================\n",
            " conv2d_3 (Conv2D)           (None, 30, 30, 32)        896       \n",
            "                                                                 \n",
            " activation_5 (Activation)   (None, 30, 30, 32)        0         \n",
            "                                                                 \n",
            " max_pooling2d_3 (MaxPooling  (None, 15, 15, 32)       0         \n",
            " 2D)                                                             \n",
            "                                                                 \n",
            " conv2d_4 (Conv2D)           (None, 13, 13, 32)        9248      \n",
            "                                                                 \n",
            " activation_6 (Activation)   (None, 13, 13, 32)        0         \n",
            "                                                                 \n",
            " max_pooling2d_4 (MaxPooling  (None, 6, 6, 32)         0         \n",
            " 2D)                                                             \n",
            "                                                                 \n",
            " conv2d_5 (Conv2D)           (None, 4, 4, 64)          18496     \n",
            "                                                                 \n",
            " activation_7 (Activation)   (None, 4, 4, 64)          0         \n",
            "                                                                 \n",
            " max_pooling2d_5 (MaxPooling  (None, 2, 2, 64)         0         \n",
            " 2D)                                                             \n",
            "                                                                 \n",
            " flatten_1 (Flatten)         (None, 256)               0         \n",
            "                                                                 \n",
            " dense_2 (Dense)             (None, 128)               32896     \n",
            "                                                                 \n",
            " activation_8 (Activation)   (None, 128)               0         \n",
            "                                                                 \n",
            " dropout_1 (Dropout)         (None, 128)               0         \n",
            "                                                                 \n",
            " dense_3 (Dense)             (None, 5)                 645       \n",
            "                                                                 \n",
            " activation_9 (Activation)   (None, 5)                 0         \n",
            "                                                                 \n",
            "=================================================================\n",
            "Total params: 62,181\n",
            "Trainable params: 62,181\n",
            "Non-trainable params: 0\n",
            "_________________________________________________________________\n"
          ]
        }
      ],
      "source": [
        "model.summary()"
      ]
    },
    {
      "cell_type": "code",
      "execution_count": null,
      "metadata": {
        "id": "lC31QShk5tAZ"
      },
      "outputs": [],
      "source": [
        "class_weights = class_weight.compute_class_weight(\n",
        "           class_weight = 'balanced',\n",
        "            classes = np.unique(train_generator.classes), \n",
        "            y = train_generator.classes)\n",
        "\n",
        "train_class_weights = dict(enumerate(class_weights))\n"
      ]
    },
    {
      "cell_type": "code",
      "execution_count": null,
      "metadata": {
        "colab": {
          "base_uri": "https://localhost:8080/"
        },
        "id": "_9nDqhJsnmDQ",
        "outputId": "be1b3185-f908-4fb6-9e1c-0d4bf2ab9313"
      },
      "outputs": [
        {
          "data": {
            "text/plain": [
              "array([ 5.16713092, 22.62195122, 35.        ,  0.25324232,  1.27403846])"
            ]
          },
          "execution_count": 47,
          "metadata": {},
          "output_type": "execute_result"
        }
      ],
      "source": [
        "class_weights"
      ]
    },
    {
      "cell_type": "code",
      "execution_count": null,
      "metadata": {
        "id": "8WFtIdqIUtxE"
      },
      "outputs": [],
      "source": [
        "class_weights = {0: 5.16713092,\n",
        "                1: 22.62195122,\n",
        "                2: 35.,\n",
        "                3: 0.25324232,\n",
        "                4: 1.27403846}"
      ]
    },
    {
      "cell_type": "code",
      "execution_count": null,
      "metadata": {
        "colab": {
          "base_uri": "https://localhost:8080/"
        },
        "id": "wsuQctNR-hqH",
        "outputId": "78e28509-30f4-4c2a-d81c-6d5134675e06"
      },
      "outputs": [
        {
          "output_type": "stream",
          "name": "stdout",
          "text": [
            "Epoch 1/50\n",
            "294/294 [==============================] - 56s 186ms/step - loss: 1.1774 - acc: 0.4694 - val_loss: 0.9956 - val_acc: 0.5879\n",
            "Epoch 2/50\n",
            "294/294 [==============================] - 54s 183ms/step - loss: 0.6178 - acc: 0.6986 - val_loss: 0.9261 - val_acc: 0.6507\n",
            "Epoch 3/50\n",
            "294/294 [==============================] - 54s 183ms/step - loss: 0.5121 - acc: 0.7647 - val_loss: 1.2011 - val_acc: 0.6673\n",
            "Epoch 4/50\n",
            "294/294 [==============================] - 53s 181ms/step - loss: 0.4714 - acc: 0.7786 - val_loss: 0.8583 - val_acc: 0.6818\n",
            "Epoch 5/50\n",
            "294/294 [==============================] - 54s 183ms/step - loss: 0.4029 - acc: 0.8126 - val_loss: 0.8730 - val_acc: 0.6991\n",
            "Epoch 6/50\n",
            "294/294 [==============================] - 55s 186ms/step - loss: 0.4025 - acc: 0.8122 - val_loss: 0.9298 - val_acc: 0.6988\n",
            "Epoch 7/50\n",
            "294/294 [==============================] - 54s 184ms/step - loss: 0.3760 - acc: 0.8312 - val_loss: 1.0222 - val_acc: 0.7463\n",
            "Epoch 8/50\n",
            "294/294 [==============================] - 54s 183ms/step - loss: 0.3745 - acc: 0.8298 - val_loss: 0.9706 - val_acc: 0.7428\n",
            "Epoch 9/50\n",
            "294/294 [==============================] - 54s 182ms/step - loss: 0.3661 - acc: 0.8322 - val_loss: 0.8803 - val_acc: 0.6977\n",
            "Epoch 10/50\n",
            "294/294 [==============================] - 54s 183ms/step - loss: 0.3447 - acc: 0.8507 - val_loss: 0.8569 - val_acc: 0.7448\n",
            "Epoch 11/50\n",
            "294/294 [==============================] - 54s 183ms/step - loss: 0.3283 - acc: 0.8491 - val_loss: 0.9340 - val_acc: 0.7291\n",
            "Epoch 12/50\n",
            "294/294 [==============================] - 55s 187ms/step - loss: 0.3224 - acc: 0.8535 - val_loss: 0.9041 - val_acc: 0.7687\n",
            "Epoch 13/50\n",
            "294/294 [==============================] - 54s 185ms/step - loss: 0.3219 - acc: 0.8517 - val_loss: 0.8090 - val_acc: 0.7293\n",
            "Epoch 14/50\n",
            "294/294 [==============================] - 54s 183ms/step - loss: 0.3057 - acc: 0.8691 - val_loss: 0.9527 - val_acc: 0.7422\n",
            "Epoch 15/50\n",
            "294/294 [==============================] - 54s 184ms/step - loss: 0.2974 - acc: 0.8742 - val_loss: 1.2313 - val_acc: 0.7073\n",
            "Epoch 16/50\n",
            "294/294 [==============================] - 54s 184ms/step - loss: 0.3094 - acc: 0.8611 - val_loss: 1.2210 - val_acc: 0.7196\n",
            "Epoch 17/50\n",
            "294/294 [==============================] - 54s 183ms/step - loss: 0.2941 - acc: 0.8682 - val_loss: 0.9830 - val_acc: 0.7637\n",
            "Epoch 18/50\n",
            "294/294 [==============================] - 54s 183ms/step - loss: 0.2901 - acc: 0.8790 - val_loss: 1.4052 - val_acc: 0.7213\n",
            "Epoch 19/50\n",
            "294/294 [==============================] - 54s 183ms/step - loss: 0.2838 - acc: 0.8797 - val_loss: 1.0628 - val_acc: 0.7470\n",
            "Epoch 20/50\n",
            "294/294 [==============================] - 54s 183ms/step - loss: 0.2774 - acc: 0.8818 - val_loss: 1.0033 - val_acc: 0.7971\n",
            "Epoch 21/50\n",
            "294/294 [==============================] - 54s 183ms/step - loss: 0.2619 - acc: 0.8873 - val_loss: 1.0761 - val_acc: 0.7493\n",
            "Epoch 22/50\n",
            "294/294 [==============================] - 54s 182ms/step - loss: 0.2680 - acc: 0.8851 - val_loss: 1.2830 - val_acc: 0.7288\n",
            "Epoch 23/50\n",
            "294/294 [==============================] - 54s 183ms/step - loss: 0.2575 - acc: 0.8913 - val_loss: 1.1985 - val_acc: 0.7138\n",
            "Epoch 24/50\n",
            "294/294 [==============================] - 53s 182ms/step - loss: 0.2504 - acc: 0.8868 - val_loss: 1.4036 - val_acc: 0.7196\n",
            "Epoch 25/50\n",
            "294/294 [==============================] - 54s 183ms/step - loss: 0.2387 - acc: 0.9011 - val_loss: 1.0590 - val_acc: 0.7471\n",
            "Epoch 26/50\n",
            "294/294 [==============================] - 54s 182ms/step - loss: 0.2525 - acc: 0.8992 - val_loss: 1.2200 - val_acc: 0.7933\n",
            "Epoch 27/50\n",
            "294/294 [==============================] - 55s 185ms/step - loss: 0.2429 - acc: 0.9002 - val_loss: 0.7301 - val_acc: 0.7928\n",
            "Epoch 28/50\n",
            "294/294 [==============================] - 54s 183ms/step - loss: 0.2454 - acc: 0.8999 - val_loss: 1.5285 - val_acc: 0.7067\n",
            "Epoch 29/50\n",
            "294/294 [==============================] - 54s 183ms/step - loss: 0.2353 - acc: 0.9025 - val_loss: 1.4221 - val_acc: 0.7344\n",
            "Epoch 30/50\n",
            "294/294 [==============================] - 54s 183ms/step - loss: 0.2482 - acc: 0.8942 - val_loss: 1.1700 - val_acc: 0.7426\n",
            "Epoch 31/50\n",
            "294/294 [==============================] - 54s 183ms/step - loss: 0.2338 - acc: 0.9034 - val_loss: 1.5119 - val_acc: 0.7121\n",
            "Epoch 32/50\n",
            "294/294 [==============================] - 54s 184ms/step - loss: 0.2364 - acc: 0.9039 - val_loss: 1.3473 - val_acc: 0.7229\n",
            "Epoch 33/50\n",
            "294/294 [==============================] - 54s 185ms/step - loss: 0.2223 - acc: 0.9113 - val_loss: 1.5316 - val_acc: 0.7585\n",
            "Epoch 34/50\n",
            "294/294 [==============================] - 54s 184ms/step - loss: 0.2378 - acc: 0.9018 - val_loss: 1.5445 - val_acc: 0.7247\n",
            "Epoch 35/50\n",
            "294/294 [==============================] - 56s 190ms/step - loss: 0.2251 - acc: 0.9043 - val_loss: 1.3214 - val_acc: 0.7408\n",
            "Epoch 36/50\n",
            "294/294 [==============================] - 57s 194ms/step - loss: 0.2300 - acc: 0.9032 - val_loss: 1.4129 - val_acc: 0.7475\n",
            "Epoch 37/50\n",
            "294/294 [==============================] - 56s 190ms/step - loss: 0.2225 - acc: 0.9069 - val_loss: 1.4342 - val_acc: 0.8176\n",
            "Epoch 38/50\n",
            "294/294 [==============================] - 55s 188ms/step - loss: 0.2196 - acc: 0.9066 - val_loss: 1.2742 - val_acc: 0.7402\n",
            "Epoch 39/50\n",
            "294/294 [==============================] - 56s 189ms/step - loss: 0.2258 - acc: 0.9061 - val_loss: 1.1753 - val_acc: 0.7261\n",
            "Epoch 40/50\n",
            "294/294 [==============================] - 56s 192ms/step - loss: 0.2173 - acc: 0.9106 - val_loss: 1.4523 - val_acc: 0.7872\n",
            "Epoch 41/50\n",
            "294/294 [==============================] - 56s 191ms/step - loss: 0.2355 - acc: 0.8989 - val_loss: 1.5865 - val_acc: 0.7637\n",
            "Epoch 42/50\n",
            "294/294 [==============================] - 55s 188ms/step - loss: 0.2182 - acc: 0.9090 - val_loss: 1.3243 - val_acc: 0.7339\n",
            "Epoch 43/50\n",
            "294/294 [==============================] - 55s 186ms/step - loss: 0.2274 - acc: 0.9010 - val_loss: 1.2482 - val_acc: 0.7705\n",
            "Epoch 44/50\n",
            "294/294 [==============================] - 55s 186ms/step - loss: 0.2188 - acc: 0.9057 - val_loss: 1.6345 - val_acc: 0.7819\n",
            "Epoch 45/50\n",
            "294/294 [==============================] - 56s 190ms/step - loss: 0.2048 - acc: 0.9114 - val_loss: 1.5368 - val_acc: 0.7537\n",
            "Epoch 46/50\n",
            "294/294 [==============================] - 54s 185ms/step - loss: 0.2132 - acc: 0.9073 - val_loss: 1.5701 - val_acc: 0.7359\n",
            "Epoch 47/50\n",
            "294/294 [==============================] - 54s 184ms/step - loss: 0.2340 - acc: 0.8982 - val_loss: 1.5867 - val_acc: 0.7458\n",
            "Epoch 48/50\n",
            "294/294 [==============================] - 56s 191ms/step - loss: 0.2049 - acc: 0.9144 - val_loss: 1.5682 - val_acc: 0.7601\n",
            "Epoch 49/50\n",
            "294/294 [==============================] - 55s 187ms/step - loss: 0.1970 - acc: 0.9178 - val_loss: 1.6107 - val_acc: 0.7362\n",
            "Epoch 50/50\n",
            "294/294 [==============================] - 54s 184ms/step - loss: 0.2091 - acc: 0.9126 - val_loss: 1.6969 - val_acc: 0.7273\n"
          ]
        },
        {
          "output_type": "stream",
          "name": "stderr",
          "text": [
            "WARNING:absl:Found untraced functions such as _jit_compiled_convolution_op, _jit_compiled_convolution_op, _jit_compiled_convolution_op while saving (showing 3 of 3). These functions will not be directly callable after loading.\n"
          ]
        }
      ],
      "source": [
        "model.fit(\n",
        "train_generator,\n",
        "steps_per_epoch=nb_train_samples // batch_size,\n",
        "epochs=epochs,\n",
        "#class_weight=class_weights,\n",
        "validation_data=validation_generator,\n",
        "validation_steps=nb_validation_samples // batch_size)\n",
        "model.save('/content/drive/MyDrive/Vale - TCC/ModelosSalvos/modelo128densebatch128epochs50')"
      ]
    },
    {
      "cell_type": "code",
      "execution_count": null,
      "metadata": {
        "id": "NXXiDIzZs3GM"
      },
      "outputs": [],
      "source": [
        "model.save('/content/drive/MyDrive/Vale - TCC/ModelosSalvos/modeloSalvoCortadoBalanceadoOverValidacao')"
      ]
    },
    {
      "cell_type": "code",
      "execution_count": null,
      "metadata": {
        "id": "Wu6FZRPsEY8Q"
      },
      "outputs": [],
      "source": [
        "Y_test = np.argmax(validation_generator, axis=1)"
      ]
    },
    {
      "cell_type": "code",
      "execution_count": 5,
      "metadata": {
        "id": "rsuqSz017cPO"
      },
      "outputs": [],
      "source": [
        "model = keras.models.load_model('/content/drive/MyDrive/Vale - TCC/ModelosSalvos/modelo128dense')"
      ]
    },
    {
      "cell_type": "code",
      "execution_count": null,
      "metadata": {
        "id": "fwMoYxj55y9U"
      },
      "outputs": [],
      "source": [
        "#Testar a performance em cada classe"
      ]
    },
    {
      "cell_type": "code",
      "execution_count": null,
      "metadata": {
        "colab": {
          "base_uri": "https://localhost:8080/"
        },
        "id": "5GVoat71GRuU",
        "outputId": "f4dd47f1-adac-4077-8e02-6b0969e7ba67"
      },
      "outputs": [
        {
          "data": {
            "text/plain": [
              "<keras.preprocessing.image.ImageDataGenerator at 0x7f6d7ebb1c10>"
            ]
          },
          "execution_count": 50,
          "metadata": {},
          "output_type": "execute_result"
        }
      ],
      "source": [
        "test_datagen"
      ]
    },
    {
      "cell_type": "code",
      "execution_count": null,
      "metadata": {
        "id": "pSjFIjxeCABn"
      },
      "outputs": [],
      "source": [
        "#load the image\n",
        "my_image = load_img('data/validation/D - Alto Atrito/MCH004W21B_R_20190831_074925.png', target_size=(432, 288))\n",
        "\n",
        "#preprocess the image\n",
        "my_image = img_to_array(my_image)\n",
        "my_image = my_image.reshape((1, my_image.shape[0], my_image.shape[1], my_image.shape[2]))\n",
        "my_image = preprocess_input(my_image)\n",
        "\n",
        "#make the prediction\n",
        "prediction = model.predict(my_image)"
      ]
    },
    {
      "cell_type": "code",
      "execution_count": null,
      "metadata": {
        "colab": {
          "base_uri": "https://localhost:8080/"
        },
        "id": "4ll5Brw2Y2J0",
        "outputId": "2d48d52b-1b68-435b-e6e9-025949f31b98"
      },
      "outputs": [
        {
          "name": "stdout",
          "output_type": "stream",
          "text": [
            "28/28 [==============================] - 2s 44ms/step\n",
            "Confusion Matrix\n",
            "[[  87    0    0    8    0    0    0    0]\n",
            " [   0   20    0    0    0    0    0    0]\n",
            " [   0    0    0    1    6    0    0    0]\n",
            " [   0    1    8    0    3    0    0    0]\n",
            " [  55    9    0 1341  415    0    0    0]\n",
            " [   0    0    0    3    5    0    0    0]\n",
            " [ 100   40   45  700  369    0    0    0]\n",
            " [   0   10    0  106  244    0    0    0]]\n"
          ]
        }
      ],
      "source": [
        "Y_pred = model.predict(validation_generator)\n",
        "y_pred = np.argmax(Y_pred, axis=1)\n",
        "\n",
        "print('Confusion Matrix')\n",
        "print(confusion_matrix(validation_generator.classes, y_pred))"
      ]
    },
    {
      "cell_type": "code",
      "execution_count": null,
      "metadata": {
        "colab": {
          "base_uri": "https://localhost:8080/"
        },
        "id": "xwHqB_LXat8D",
        "outputId": "20bae51e-b750-482b-e42f-4849bfd57220"
      },
      "outputs": [
        {
          "output_type": "stream",
          "name": "stdout",
          "text": [
            "74/74 [==============================] - 6s 76ms/step\n"
          ]
        }
      ],
      "source": [
        "y_pred = np.argmax(model.predict(validation_generator),  axis=1)\n",
        "\n"
      ]
    },
    {
      "cell_type": "code",
      "source": [
        "predicoes = model.predict(validation_generator)"
      ],
      "metadata": {
        "colab": {
          "base_uri": "https://localhost:8080/"
        },
        "id": "seeK8o77nZtB",
        "outputId": "69fc6398-6c9b-4dbd-ffaa-b1a27966bc97"
      },
      "execution_count": 111,
      "outputs": [
        {
          "output_type": "stream",
          "name": "stdout",
          "text": [
            "74/74 [==============================] - 7s 92ms/step\n"
          ]
        }
      ]
    },
    {
      "cell_type": "code",
      "source": [
        "len(gram)"
      ],
      "metadata": {
        "colab": {
          "base_uri": "https://localhost:8080/"
        },
        "id": "jCqmEX5M4B8Z",
        "outputId": "48270103-7284-4d99-a8df-eca26bca8b7d"
      },
      "execution_count": 124,
      "outputs": [
        {
          "output_type": "execute_result",
          "data": {
            "text/plain": [
              "32"
            ]
          },
          "metadata": {},
          "execution_count": 124
        }
      ]
    },
    {
      "cell_type": "code",
      "source": [
        "len(validation_generator[1])"
      ],
      "metadata": {
        "colab": {
          "base_uri": "https://localhost:8080/",
          "height": 165
        },
        "id": "da_ZheDct3A4",
        "outputId": "41e7b452-1311-4188-ef3b-8559927859c2"
      },
      "execution_count": 126,
      "outputs": [
        {
          "output_type": "error",
          "ename": "IndexError",
          "evalue": "ignored",
          "traceback": [
            "\u001b[0;31m---------------------------------------------------------------------------\u001b[0m",
            "\u001b[0;31mIndexError\u001b[0m                                Traceback (most recent call last)",
            "\u001b[0;32m<ipython-input-126-968d15a8b4de>\u001b[0m in \u001b[0;36m<module>\u001b[0;34m\u001b[0m\n\u001b[0;32m----> 1\u001b[0;31m \u001b[0mlen\u001b[0m\u001b[0;34m(\u001b[0m\u001b[0mvalidation_generator\u001b[0m\u001b[0;34m[\u001b[0m\u001b[0;36m1\u001b[0m\u001b[0;34m]\u001b[0m\u001b[0;34m[\u001b[0m\u001b[0;36m2\u001b[0m\u001b[0;34m]\u001b[0m\u001b[0;34m)\u001b[0m\u001b[0;34m\u001b[0m\u001b[0;34m\u001b[0m\u001b[0m\n\u001b[0m",
            "\u001b[0;31mIndexError\u001b[0m: tuple index out of range"
          ]
        }
      ]
    },
    {
      "cell_type": "code",
      "source": [
        "predicoes\n",
        "fig = plt.figure()\n",
        "ax = fig.add_axes([0,0,1,1])\n",
        "langs = [\"AA\", \"AP\", \"DM\", \"MA\", \"P2\"]\n",
        "students = predicoes[2550]\n",
        "ax.bar(langs,students)\n",
        "plt.show()"
      ],
      "metadata": {
        "colab": {
          "base_uri": "https://localhost:8080/",
          "height": 336
        },
        "id": "NkWT-Vd6qLhP",
        "outputId": "efbca50a-b01f-49e9-bd1d-cf067aaff147"
      },
      "execution_count": null,
      "outputs": [
        {
          "output_type": "display_data",
          "data": {
            "text/plain": [
              "<Figure size 432x288 with 1 Axes>"
            ],
            "image/png": "[encoded data removed]"
          },
          "metadata": {
            "needs_background": "light"
          }
        }
      ]
    },
    {
      "cell_type": "code",
      "execution_count": null,
      "metadata": {
        "colab": {
          "base_uri": "https://localhost:8080/"
        },
        "id": "rauxP5mbbdti",
        "outputId": "53c0709a-e7e0-40ee-fdb6-bc61aea934e8"
      },
      "outputs": [
        {
          "data": {
            "text/plain": [
              "2307"
            ]
          },
          "execution_count": 23,
          "metadata": {},
          "output_type": "execute_result"
        }
      ],
      "source": [
        "len(y_pred)"
      ]
    },
    {
      "cell_type": "code",
      "execution_count": null,
      "metadata": {
        "colab": {
          "base_uri": "https://localhost:8080/"
        },
        "id": "JSh8RZWcl-70",
        "outputId": "28faf825-436d-410c-d248-c41591636916"
      },
      "outputs": [
        {
          "data": {
            "text/plain": [
              "2307"
            ]
          },
          "execution_count": 25,
          "metadata": {},
          "output_type": "execute_result"
        }
      ],
      "source": [
        "len(validation_generator.classes)"
      ]
    },
    {
      "cell_type": "code",
      "execution_count": null,
      "metadata": {
        "id": "GGEsCdtmlhHA"
      },
      "outputs": [],
      "source": [
        "from sklearn import metrics"
      ]
    },
    {
      "cell_type": "code",
      "execution_count": null,
      "metadata": {
        "id": "jBPASoJ1lch6"
      },
      "outputs": [],
      "source": [
        "matrix = metrics.confusion_matrix(y_test, y_pred)"
      ]
    },
    {
      "cell_type": "code",
      "execution_count": null,
      "metadata": {
        "colab": {
          "base_uri": "https://localhost:8080/"
        },
        "id": "2klJ4nfcmNpG",
        "outputId": "d7c31bc0-d8eb-45f8-cf56-54cbb5309120"
      },
      "outputs": [
        {
          "data": {
            "text/plain": [
              "array([[  11,    4,    0,   65,   15],\n",
              "       [   1,    0,    0,   16,    3],\n",
              "       [   0,    1,    0,   11,    0],\n",
              "       [  95,   32,    8, 1361,  324],\n",
              "       [  18,    7,    0,  265,   70]])"
            ]
          },
          "execution_count": 45,
          "metadata": {},
          "output_type": "execute_result"
        }
      ],
      "source": [
        "matrix"
      ]
    },
    {
      "cell_type": "code",
      "source": [
        "np.delete(model.predict(validation_generator), np.argmax(model.predict(validation_generator),  axis=1), 1)"
      ],
      "metadata": {
        "colab": {
          "base_uri": "https://localhost:8080/"
        },
        "id": "Ron5DX-yok51",
        "outputId": "9a8e0034-e26c-48fc-d149-c2990a0c0496"
      },
      "execution_count": null,
      "outputs": [
        {
          "output_type": "stream",
          "name": "stdout",
          "text": [
            "74/74 [==============================] - 8s 103ms/step\n",
            "74/74 [==============================] - 6s 78ms/step\n"
          ]
        },
        {
          "output_type": "execute_result",
          "data": {
            "text/plain": [
              "array([], shape=(9376, 0), dtype=float32)"
            ]
          },
          "metadata": {},
          "execution_count": 46
        }
      ]
    },
    {
      "cell_type": "code",
      "source": [
        "top_n_1 = l[np.argsort(-l)[0:4]]\n",
        "top_n_2 = mo[np.argpartition(l, -4)[-4:]]\n"
      ],
      "metadata": {
        "id": "fcnF2VlwpptE"
      },
      "execution_count": null,
      "outputs": []
    },
    {
      "cell_type": "code",
      "source": [
        "y_pred"
      ],
      "metadata": {
        "colab": {
          "base_uri": "https://localhost:8080/"
        },
        "id": "Kp_qgJuapa33",
        "outputId": "0095905b-0f29-4b63-cf9c-2238e669aded"
      },
      "execution_count": null,
      "outputs": [
        {
          "output_type": "execute_result",
          "data": {
            "text/plain": [
              "array([0, 0, 0, ..., 0, 0, 0])"
            ]
          },
          "metadata": {},
          "execution_count": 41
        }
      ]
    },
    {
      "cell_type": "code",
      "execution_count": null,
      "metadata": {
        "colab": {
          "base_uri": "https://localhost:8080/",
          "height": 296
        },
        "id": "fxvUh0_VXBsw",
        "outputId": "5ccbabae-9692-47e9-ca5d-8974c82c04ff"
      },
      "outputs": [
        {
          "output_type": "stream",
          "name": "stdout",
          "text": [
            "74/74 [==============================] - 6s 76ms/step\n"
          ]
        },
        {
          "output_type": "display_data",
          "data": {
            "text/plain": [
              "<Figure size 432x288 with 2 Axes>"
            ],
            "image/png": "[encoded data removed]"
          },
          "metadata": {
            "needs_background": "light"
          }
        }
      ],
      "source": [
        "from sklearn.metrics import ConfusionMatrixDisplay\n",
        "from sklearn.metrics import confusion_matrix\n",
        "import matplotlib.pyplot as plt\n",
        "import numpy as np\n",
        "\n",
        "y_pred = np.argmax(model.predict(validation_generator),  axis=1)\n",
        "y_pred = np.array(y_pred)\n",
        "y_test = np.array(validation_generator.classes)\n",
        "labels = [\"AA\", \"AP\", \"DM\", \"MA\", \"P2\"]\n",
        "\n",
        "cm = confusion_matrix(y_test, y_pred)\n",
        "\n",
        "disp = ConfusionMatrixDisplay(confusion_matrix=cm, display_labels=labels)\n",
        "\n",
        "disp.plot(cmap=plt.cm.Blues)\n",
        "plt.show()"
      ]
    },
    {
      "cell_type": "code",
      "execution_count": null,
      "metadata": {
        "id": "iU05XaNGgeXR"
      },
      "outputs": [],
      "source": [
        "from keras.preprocessing.image import load_img, img_to_array, ImageDataGenerator\n",
        "from keras.applications.vgg16 import preprocess_input\n",
        "\n",
        "#load the image\n",
        "my_image = load_img('/content/base32/validation/D - Medio Atrito/MCH004W21A_N_20191119_120732.png', target_size=(32, 32))\n",
        "\n",
        "#preprocess the image\n",
        "my_image = img_to_array(my_image)\n",
        "my_image = my_image.reshape((1, my_image.shape[0], my_image.shape[1], my_image.shape[2]))\n",
        "my_image = preprocess_input(my_image)\n",
        "\n",
        "#make the prediction\n",
        "prediction = model.predict(my_image)"
      ]
    },
    {
      "cell_type": "code",
      "execution_count": null,
      "metadata": {
        "colab": {
          "base_uri": "https://localhost:8080/",
          "height": 417
        },
        "id": "vU9ZgJMVYrw6",
        "outputId": "6362eb6f-8042-49c4-8222-edac09f072e2"
      },
      "outputs": [
        {
          "ename": "ValueError",
          "evalue": "ignored",
          "output_type": "error",
          "traceback": [
            "\u001b[0;31m---------------------------------------------------------------------------\u001b[0m",
            "\u001b[0;31mValueError\u001b[0m                                Traceback (most recent call last)",
            "\u001b[0;32m<ipython-input-15-6836a1da30be>\u001b[0m in \u001b[0;36m<module>\u001b[0;34m\u001b[0m\n\u001b[1;32m      8\u001b[0m \u001b[0;34m\u001b[0m\u001b[0m\n\u001b[1;32m      9\u001b[0m \u001b[0mteste_unico\u001b[0m \u001b[0;34m=\u001b[0m \u001b[0mImageDataGenerator\u001b[0m\u001b[0;34m(\u001b[0m\u001b[0mrescale\u001b[0m\u001b[0;34m=\u001b[0m\u001b[0;36m1.\u001b[0m\u001b[0;34m/\u001b[0m\u001b[0;36m255\u001b[0m\u001b[0;34m)\u001b[0m\u001b[0;34m\u001b[0m\u001b[0;34m\u001b[0m\u001b[0m\n\u001b[0;32m---> 10\u001b[0;31m \u001b[0mteste_unico\u001b[0m\u001b[0;34m.\u001b[0m\u001b[0mflow\u001b[0m\u001b[0;34m(\u001b[0m\u001b[0mmy_image\u001b[0m\u001b[0;34m,\u001b[0m \u001b[0mbatch_size\u001b[0m\u001b[0;34m=\u001b[0m\u001b[0;36m1\u001b[0m\u001b[0;34m)\u001b[0m\u001b[0;34m\u001b[0m\u001b[0;34m\u001b[0m\u001b[0m\n\u001b[0m\u001b[1;32m     11\u001b[0m \u001b[0;31m# This method will show image in any image viewer\u001b[0m\u001b[0;34m\u001b[0m\u001b[0;34m\u001b[0m\u001b[0;34m\u001b[0m\u001b[0m\n\u001b[1;32m     12\u001b[0m \u001b[0mim\u001b[0m\u001b[0;34m.\u001b[0m\u001b[0mshow\u001b[0m\u001b[0;34m(\u001b[0m\u001b[0;34m)\u001b[0m\u001b[0;34m\u001b[0m\u001b[0;34m\u001b[0m\u001b[0m\n",
            "\u001b[0;32m/usr/local/lib/python3.7/dist-packages/keras/preprocessing/image.py\u001b[0m in \u001b[0;36mflow\u001b[0;34m(self, x, y, batch_size, shuffle, sample_weight, seed, save_to_dir, save_prefix, save_format, ignore_class_split, subset)\u001b[0m\n\u001b[1;32m   1382\u001b[0m         \u001b[0mignore_class_split\u001b[0m\u001b[0;34m=\u001b[0m\u001b[0mignore_class_split\u001b[0m\u001b[0;34m,\u001b[0m\u001b[0;34m\u001b[0m\u001b[0;34m\u001b[0m\u001b[0m\n\u001b[1;32m   1383\u001b[0m         \u001b[0msubset\u001b[0m\u001b[0;34m=\u001b[0m\u001b[0msubset\u001b[0m\u001b[0;34m,\u001b[0m\u001b[0;34m\u001b[0m\u001b[0;34m\u001b[0m\u001b[0m\n\u001b[0;32m-> 1384\u001b[0;31m         dtype=self.dtype)\n\u001b[0m\u001b[1;32m   1385\u001b[0m \u001b[0;34m\u001b[0m\u001b[0m\n\u001b[1;32m   1386\u001b[0m   def flow_from_directory(self,\n",
            "\u001b[0;32m/usr/local/lib/python3.7/dist-packages/keras/preprocessing/image.py\u001b[0m in \u001b[0;36m__init__\u001b[0;34m(self, x, y, image_data_generator, batch_size, shuffle, sample_weight, seed, data_format, save_to_dir, save_prefix, save_format, subset, ignore_class_split, dtype)\u001b[0m\n\u001b[1;32m    675\u001b[0m           \u001b[0;34m'Input data in `NumpyArrayIterator` '\u001b[0m\u001b[0;34m\u001b[0m\u001b[0;34m\u001b[0m\u001b[0m\n\u001b[1;32m    676\u001b[0m           \u001b[0;34m'should have rank 4. You passed an array '\u001b[0m\u001b[0;34m\u001b[0m\u001b[0;34m\u001b[0m\u001b[0m\n\u001b[0;32m--> 677\u001b[0;31m           'with shape', self.x.shape)\n\u001b[0m\u001b[1;32m    678\u001b[0m     \u001b[0mchannels_axis\u001b[0m \u001b[0;34m=\u001b[0m \u001b[0;36m3\u001b[0m \u001b[0;32mif\u001b[0m \u001b[0mdata_format\u001b[0m \u001b[0;34m==\u001b[0m \u001b[0;34m'channels_last'\u001b[0m \u001b[0;32melse\u001b[0m \u001b[0;36m1\u001b[0m\u001b[0;34m\u001b[0m\u001b[0;34m\u001b[0m\u001b[0m\n\u001b[1;32m    679\u001b[0m     \u001b[0;32mif\u001b[0m \u001b[0mself\u001b[0m\u001b[0;34m.\u001b[0m\u001b[0mx\u001b[0m\u001b[0;34m.\u001b[0m\u001b[0mshape\u001b[0m\u001b[0;34m[\u001b[0m\u001b[0mchannels_axis\u001b[0m\u001b[0;34m]\u001b[0m \u001b[0;32mnot\u001b[0m \u001b[0;32min\u001b[0m \u001b[0;34m{\u001b[0m\u001b[0;36m1\u001b[0m\u001b[0;34m,\u001b[0m \u001b[0;36m3\u001b[0m\u001b[0;34m,\u001b[0m \u001b[0;36m4\u001b[0m\u001b[0;34m}\u001b[0m\u001b[0;34m:\u001b[0m\u001b[0;34m\u001b[0m\u001b[0;34m\u001b[0m\u001b[0m\n",
            "\u001b[0;31mValueError\u001b[0m: ('Input data in `NumpyArrayIterator` should have rank 4. You passed an array with shape', (32, 32, 3))"
          ]
        }
      ],
      "source": [
        "from tensorflow.keras.utils import load_img, img_to_array\n",
        "from keras.applications.vgg16 import preprocess_input\n",
        "# open method used to open different extension image file\n",
        "im = Image.open(r\"/content/base32/validation/D - Problema na Fase 2/MCH004W22A_N_20191004_162851.png\") \n",
        "my_image = load_img('/content/base32/validation/D - Problema na Fase 2/MCH004W22A_N_20191004_162851.png', target_size=(32, 32))\n",
        "\n",
        "#preprocess the image\n",
        "\n",
        "teste_unico = ImageDataGenerator(rescale=1./255)\n",
        "teste_unico.flow(my_image, batch_size=1)\n",
        "# This method will show image in any image viewer \n",
        "im.show() \n",
        "model.predict(teste_unico)"
      ]
    },
    {
      "cell_type": "code",
      "execution_count": null,
      "metadata": {
        "id": "XcIX1I2-pkKH"
      },
      "outputs": [],
      "source": [
        "## avaliação do algoritmo"
      ]
    },
    {
      "cell_type": "code",
      "execution_count": null,
      "metadata": {
        "id": "7wytRhAMnidu"
      },
      "outputs": [],
      "source": [
        "# cria uma copia do zipado e atribui o nome h004\n",
        "!cp '/content/drive/MyDrive/Vale - TCC/H004.zip' Leituras"
      ]
    },
    {
      "cell_type": "code",
      "execution_count": null,
      "metadata": {
        "id": "W9yyWZkyNGLz"
      },
      "outputs": [],
      "source": [
        "#unizpa essa copia e a coloca no destino\n",
        "!unzip -uq Leituras -d /content/Leituras"
      ]
    },
    {
      "cell_type": "code",
      "source": [
        "!pip install pyts"
      ],
      "metadata": {
        "colab": {
          "base_uri": "https://localhost:8080/"
        },
        "id": "qoqNhHLhfVsD",
        "outputId": "51e2f2e0-0c7a-4aa3-d58b-a7de9ef7d76f"
      },
      "execution_count": 7,
      "outputs": [
        {
          "output_type": "stream",
          "name": "stdout",
          "text": [
            "Looking in indexes: https://pypi.org/simple, https://us-python.pkg.dev/colab-wheels/public/simple/\n",
            "Collecting pyts\n",
            "  Downloading pyts-0.12.0-py3-none-any.whl (2.5 MB)\n",
            "\u001b[K     |████████████████████████████████| 2.5 MB 7.2 MB/s \n",
            "\u001b[?25hRequirement already satisfied: numba>=0.48.0 in /usr/local/lib/python3.8/dist-packages (from pyts) (0.56.4)\n",
            "Requirement already satisfied: numpy>=1.17.5 in /usr/local/lib/python3.8/dist-packages (from pyts) (1.21.6)\n",
            "Requirement already satisfied: scikit-learn>=0.22.1 in /usr/local/lib/python3.8/dist-packages (from pyts) (1.0.2)\n",
            "Requirement already satisfied: scipy>=1.3.0 in /usr/local/lib/python3.8/dist-packages (from pyts) (1.7.3)\n",
            "Requirement already satisfied: joblib>=0.12 in /usr/local/lib/python3.8/dist-packages (from pyts) (1.2.0)\n",
            "Requirement already satisfied: llvmlite<0.40,>=0.39.0dev0 in /usr/local/lib/python3.8/dist-packages (from numba>=0.48.0->pyts) (0.39.1)\n",
            "Requirement already satisfied: setuptools in /usr/local/lib/python3.8/dist-packages (from numba>=0.48.0->pyts) (57.4.0)\n",
            "Requirement already satisfied: importlib-metadata in /usr/local/lib/python3.8/dist-packages (from numba>=0.48.0->pyts) (4.13.0)\n",
            "Requirement already satisfied: threadpoolctl>=2.0.0 in /usr/local/lib/python3.8/dist-packages (from scikit-learn>=0.22.1->pyts) (3.1.0)\n",
            "Requirement already satisfied: zipp>=0.5 in /usr/local/lib/python3.8/dist-packages (from importlib-metadata->numba>=0.48.0->pyts) (3.11.0)\n",
            "Installing collected packages: pyts\n",
            "Successfully installed pyts-0.12.0\n"
          ]
        }
      ]
    },
    {
      "cell_type": "code",
      "execution_count": 22,
      "metadata": {
        "id": "7d-u3R9rUF1N"
      },
      "outputs": [],
      "source": [
        "import os\n",
        "import zipfile\n",
        "from datetime import datetime\n",
        "import pandas as pd\n",
        "import numpy as np\n",
        "import matplotlib.pyplot as plt\n",
        "from statistics import mean\n",
        "from pyts.image import GramianAngularField\n",
        "import io\n",
        "\n",
        "def stringToFloat(dataFrame, name):\n",
        "    dataFrame[name] = pd.to_numeric(dataFrame[name], downcast=\"float\")\n",
        "\n",
        "def getData(sample, dataType):\n",
        "\n",
        "    '''\n",
        "    Brief : Funcao que faz a leitura de dados armazenados em arquivos .txt\n",
        "            de acordo com o tipo de dado especificado:\n",
        "            - 1. Intervalos de tempo;\n",
        "            - 2. Corrente;\n",
        "            - 3. CorrenteRMS.\n",
        "\n",
        "    Parameters: Nome da leitura e o tipo de dado que se deseja ler;\n",
        "\n",
        "    Returns:    Um array com os valores numericos convertidos para numpy.\n",
        "    '''\n",
        "\n",
        "    try:\n",
        "        f = open(sample) \n",
        "        lines = f.readlines()\n",
        "        i = 0\n",
        "        while(i < len(lines)):\n",
        "            i += 1\n",
        "            if(lines[i] == \"***End_of_Header***\\n\"): # marca o fim do cabecalho\n",
        "                break  \n",
        "        inicio = i + 2\n",
        "\n",
        "        linhas = lines[inicio:]\n",
        "        df = pd.DataFrame(linhas)\n",
        "        df = df[0].str.split('\\t', expand=True)\n",
        "        stringToFloat(df, 2)\n",
        "\n",
        "        if(dataType == 'tempo'):\n",
        "            return df[0]\n",
        "        if(dataType == 'corrente'):\n",
        "            return df[1]\n",
        "        if(dataType == 'correnteRMS'):\n",
        "            return df[2]\n",
        "     \n",
        "    except FileNotFoundError:\n",
        "        print('Leitura não encontrada: ', sample)\n",
        "\n",
        "def plotImagem_GAF(base):\n",
        "    gasf = GramianAngularField(image_size=32, method='summation')\n",
        "    base = base.replace(np.nan,0)\n",
        "    X_gasf = gasf.fit_transform(base.to_numpy().reshape(1, -1))\n",
        "    X_gasf = X_gasf[0,:,:]\n",
        "    plt.imshow(X_gasf)\n",
        "    plt.axis('off')\n",
        "    return plt.imshow(X_gasf)\n",
        "\n",
        "def saveImagem_GAF(base):\n",
        "    gasf = GramianAngularField(image_size=32, method='summation')\n",
        "    base = base.replace(np.nan,0)\n",
        "    X_gasf = gasf.fit_transform(base.to_numpy().reshape(1, -1))\n",
        "    X_gasf = X_gasf[0,:,:]\n",
        "    #plt.figure(figsize=(32, 32),dpi=1)\n",
        "    plt.axis('off')\n",
        "    print(type(X_gasf))\n",
        "    plt.imshow(X_gasf)\n",
        "    plt.figure(frameon=False)\n",
        "    plt.savefig('teste.jpg')\n",
        "    return X_gasf\n",
        "  \n",
        "\n",
        "def image_to_byte_array(image: Image) -> bytes:\n",
        "  # BytesIO is a fake file stored in memory\n",
        "  imgByteArr = io.BytesIO()\n",
        "  # image.save expects a file as a argument, passing a bytes io ins\n",
        "  image.save(imgByteArr, format=image.format)\n",
        "  # Turn the BytesIO object back into a bytes object\n",
        "  imgByteArr = imgByteArr.getvalue()\n",
        "  return imgByteArr"
      ]
    },
    {
      "cell_type": "code",
      "source": [
        "corrente = getData(\"MCH004W21A_N_20190830_080349.txt\", 'correnteRMS')\n",
        "gram = saveImagem_GAF(corrente)"
      ],
      "metadata": {
        "colab": {
          "base_uri": "https://localhost:8080/",
          "height": 283
        },
        "id": "BO7hZxLSmfsT",
        "outputId": "c88993a8-734f-42b9-fdbd-ae2d43784ec1"
      },
      "execution_count": 23,
      "outputs": [
        {
          "output_type": "stream",
          "name": "stdout",
          "text": [
            "<class 'numpy.ndarray'>\n"
          ]
        },
        {
          "output_type": "display_data",
          "data": {
            "text/plain": [
              "<Figure size 432x288 with 1 Axes>"
            ],
            "image/png": "[encoded data removed]"
          },
          "metadata": {
            "needs_background": "light"
          }
        },
        {
          "output_type": "display_data",
          "data": {
            "text/plain": [
              "<Figure size 432x288 with 0 Axes>"
            ]
          },
          "metadata": {}
        }
      ]
    },
    {
      "cell_type": "code",
      "source": [
        "img_array = image.img_to_array(cortado)\n",
        "img_batch = np.expand_dims(img_array, axis=0)"
      ],
      "metadata": {
        "id": "2D7dQEPvz8eS"
      },
      "execution_count": 131,
      "outputs": []
    },
    {
      "cell_type": "code",
      "source": [
        "plt.imshow(gram)\n",
        "plt.savefig('teste2.png')"
      ],
      "metadata": {
        "colab": {
          "base_uri": "https://localhost:8080/",
          "height": 266
        },
        "id": "IBSGuDHT0Gom",
        "outputId": "45bcfc8a-7fc0-4749-99b7-a67f2e650d90"
      },
      "execution_count": 34,
      "outputs": [
        {
          "output_type": "display_data",
          "data": {
            "text/plain": [
              "<Figure size 432x288 with 1 Axes>"
            ],
            "image/png": "[encoded data removed]"
          },
          "metadata": {
            "needs_background": "light"
          }
        }
      ]
    },
    {
      "cell_type": "code",
      "source": [
        "img = Image.open('teste2.jpg')\n",
        "img"
      ],
      "metadata": {
        "colab": {
          "base_uri": "https://localhost:8080/",
          "height": 305
        },
        "id": "NTQyz9uTuXMP",
        "outputId": "a70a223c-ab1c-4b4e-d86e-72b6443d7003"
      },
      "execution_count": 51,
      "outputs": [
        {
          "output_type": "execute_result",
          "data": {
            "text/plain": [
              "<PIL.JpegImagePlugin.JpegImageFile image mode=RGB size=432x288 at 0x7F8B752F5790>"
            ],
            "image/png": "[encoded data removed]"
          },
          "metadata": {},
          "execution_count": 51
        }
      ]
    },
    {
      "cell_type": "code",
      "source": [
        "img.size"
      ],
      "metadata": {
        "colab": {
          "base_uri": "https://localhost:8080/"
        },
        "id": "i37GQOaOwRxg",
        "outputId": "9a1cae08-a372-4919-bf44-ea1297cc6528"
      },
      "execution_count": 44,
      "outputs": [
        {
          "output_type": "execute_result",
          "data": {
            "text/plain": [
              "(432, 288)"
            ]
          },
          "metadata": {},
          "execution_count": 44
        }
      ]
    },
    {
      "cell_type": "code",
      "source": [
        "box = (114, 36, 330, 252)\n",
        "img2 = img.crop(box)\n",
        "img2"
      ],
      "metadata": {
        "colab": {
          "base_uri": "https://localhost:8080/",
          "height": 233
        },
        "id": "HaO2djV4una2",
        "outputId": "886a5e88-5bf4-48e7-f782-c3fd214f3818"
      },
      "execution_count": 97,
      "outputs": [
        {
          "output_type": "execute_result",
          "data": {
            "text/plain": [
              "<PIL.Image.Image image mode=RGB size=216x216 at 0x7F8B752BB310>"
            ],
            "image/png": "[encoded data removed]"
          },
          "metadata": {},
          "execution_count": 97
        }
      ]
    },
    {
      "cell_type": "code",
      "source": [
        "cortado = img2.resize((32,32))"
      ],
      "metadata": {
        "id": "2DVizsTqxemA"
      },
      "execution_count": 102,
      "outputs": []
    },
    {
      "cell_type": "code",
      "source": [
        "plt.plot(corrente)\n",
        "plt.grid(True)\n",
        "plt.show()"
      ],
      "metadata": {
        "colab": {
          "base_uri": "https://localhost:8080/",
          "height": 265
        },
        "id": "0TcsEKvbfzg8",
        "outputId": "052b4402-fa66-424c-8298-b734ea274bda"
      },
      "execution_count": 17,
      "outputs": [
        {
          "output_type": "display_data",
          "data": {
            "text/plain": [
              "<Figure size 432x288 with 1 Axes>"
            ],
            "image/png": "[encoded data removed]"
          },
          "metadata": {
            "needs_background": "light"
          }
        }
      ]
    },
    {
      "cell_type": "code",
      "source": [
        "imagemTest = ImageDataGenerator(rescale=1./255).apply_transform(cortado)"
      ],
      "metadata": {
        "colab": {
          "base_uri": "https://localhost:8080/",
          "height": 165
        },
        "id": "rqs0n6pm2hX6",
        "outputId": "cf59714e-2a83-47df-8e83-1373fbe290ff"
      },
      "execution_count": 104,
      "outputs": [
        {
          "output_type": "error",
          "ename": "TypeError",
          "evalue": "ignored",
          "traceback": [
            "\u001b[0;31m---------------------------------------------------------------------------\u001b[0m",
            "\u001b[0;31mTypeError\u001b[0m                                 Traceback (most recent call last)",
            "\u001b[0;32m<ipython-input-104-7311c6bb8e51>\u001b[0m in \u001b[0;36m<module>\u001b[0;34m\u001b[0m\n\u001b[0;32m----> 1\u001b[0;31m \u001b[0mimagemTest\u001b[0m \u001b[0;34m=\u001b[0m \u001b[0mImageDataGenerator\u001b[0m\u001b[0;34m(\u001b[0m\u001b[0mrescale\u001b[0m\u001b[0;34m=\u001b[0m\u001b[0;36m1.\u001b[0m\u001b[0;34m/\u001b[0m\u001b[0;36m255\u001b[0m\u001b[0;34m)\u001b[0m\u001b[0;34m.\u001b[0m\u001b[0mapply_transform\u001b[0m\u001b[0;34m(\u001b[0m\u001b[0mcortado\u001b[0m\u001b[0;34m)\u001b[0m\u001b[0;34m\u001b[0m\u001b[0;34m\u001b[0m\u001b[0m\n\u001b[0m",
            "\u001b[0;31mTypeError\u001b[0m: apply_transform() missing 1 required positional argument: 'transform_parameters'"
          ]
        }
      ]
    },
    {
      "cell_type": "code",
      "source": [
        "img = image_to_byte_array(gram)"
      ],
      "metadata": {
        "colab": {
          "base_uri": "https://localhost:8080/",
          "height": 287
        },
        "id": "sxdqRRl0uW_-",
        "outputId": "a69ef9a5-3971-44ef-baa6-3325106e9a83"
      },
      "execution_count": 32,
      "outputs": [
        {
          "output_type": "error",
          "ename": "AttributeError",
          "evalue": "ignored",
          "traceback": [
            "\u001b[0;31m---------------------------------------------------------------------------\u001b[0m",
            "\u001b[0;31mAttributeError\u001b[0m                            Traceback (most recent call last)",
            "\u001b[0;32m<ipython-input-32-91181ec04891>\u001b[0m in \u001b[0;36m<module>\u001b[0;34m\u001b[0m\n\u001b[0;32m----> 1\u001b[0;31m \u001b[0mimg\u001b[0m \u001b[0;34m=\u001b[0m \u001b[0mimage_to_byte_array\u001b[0m\u001b[0;34m(\u001b[0m\u001b[0mgram\u001b[0m\u001b[0;34m)\u001b[0m\u001b[0;34m\u001b[0m\u001b[0;34m\u001b[0m\u001b[0m\n\u001b[0m",
            "\u001b[0;32m<ipython-input-31-266ccb9579e2>\u001b[0m in \u001b[0;36mimage_to_byte_array\u001b[0;34m(image)\u001b[0m\n\u001b[1;32m     74\u001b[0m   \u001b[0mimgByteArr\u001b[0m \u001b[0;34m=\u001b[0m \u001b[0mio\u001b[0m\u001b[0;34m.\u001b[0m\u001b[0mBytesIO\u001b[0m\u001b[0;34m(\u001b[0m\u001b[0;34m)\u001b[0m\u001b[0;34m\u001b[0m\u001b[0;34m\u001b[0m\u001b[0m\n\u001b[1;32m     75\u001b[0m   \u001b[0;31m# image.save expects a file as a argument, passing a bytes io ins\u001b[0m\u001b[0;34m\u001b[0m\u001b[0;34m\u001b[0m\u001b[0;34m\u001b[0m\u001b[0m\n\u001b[0;32m---> 76\u001b[0;31m   \u001b[0mimage\u001b[0m\u001b[0;34m.\u001b[0m\u001b[0msave\u001b[0m\u001b[0;34m(\u001b[0m\u001b[0mimgByteArr\u001b[0m\u001b[0;34m,\u001b[0m \u001b[0mformat\u001b[0m\u001b[0;34m=\u001b[0m\u001b[0mimage\u001b[0m\u001b[0;34m.\u001b[0m\u001b[0mformat\u001b[0m\u001b[0;34m)\u001b[0m\u001b[0;34m\u001b[0m\u001b[0;34m\u001b[0m\u001b[0m\n\u001b[0m\u001b[1;32m     77\u001b[0m   \u001b[0;31m# Turn the BytesIO object back into a bytes object\u001b[0m\u001b[0;34m\u001b[0m\u001b[0;34m\u001b[0m\u001b[0;34m\u001b[0m\u001b[0m\n\u001b[1;32m     78\u001b[0m   \u001b[0mimgByteArr\u001b[0m \u001b[0;34m=\u001b[0m \u001b[0mimgByteArr\u001b[0m\u001b[0;34m.\u001b[0m\u001b[0mgetvalue\u001b[0m\u001b[0;34m(\u001b[0m\u001b[0;34m)\u001b[0m\u001b[0;34m\u001b[0m\u001b[0;34m\u001b[0m\u001b[0m\n",
            "\u001b[0;31mAttributeError\u001b[0m: 'AxesImage' object has no attribute 'save'"
          ]
        }
      ]
    },
    {
      "cell_type": "code",
      "source": [
        "model.predict(validation_generator[20])"
      ],
      "metadata": {
        "colab": {
          "base_uri": "https://localhost:8080/",
          "height": 727
        },
        "id": "XlXy3M7Is722",
        "outputId": "28cf320a-77d0-43b7-bc10-7d2ff283edce"
      },
      "execution_count": 129,
      "outputs": [
        {
          "output_type": "error",
          "ename": "ValueError",
          "evalue": "ignored",
          "traceback": [
            "\u001b[0;31m---------------------------------------------------------------------------\u001b[0m",
            "\u001b[0;31mValueError\u001b[0m                                Traceback (most recent call last)",
            "\u001b[0;32m<ipython-input-129-30786d0fbe72>\u001b[0m in \u001b[0;36m<module>\u001b[0;34m\u001b[0m\n\u001b[0;32m----> 1\u001b[0;31m \u001b[0mmodel\u001b[0m\u001b[0;34m.\u001b[0m\u001b[0mpredict\u001b[0m\u001b[0;34m(\u001b[0m\u001b[0mvalidation_generator\u001b[0m\u001b[0;34m[\u001b[0m\u001b[0;36m20\u001b[0m\u001b[0;34m]\u001b[0m\u001b[0;34m)\u001b[0m\u001b[0;34m\u001b[0m\u001b[0;34m\u001b[0m\u001b[0m\n\u001b[0m",
            "\u001b[0;32m/usr/local/lib/python3.8/dist-packages/keras/utils/traceback_utils.py\u001b[0m in \u001b[0;36merror_handler\u001b[0;34m(*args, **kwargs)\u001b[0m\n\u001b[1;32m     65\u001b[0m     \u001b[0;32mexcept\u001b[0m \u001b[0mException\u001b[0m \u001b[0;32mas\u001b[0m \u001b[0me\u001b[0m\u001b[0;34m:\u001b[0m  \u001b[0;31m# pylint: disable=broad-except\u001b[0m\u001b[0;34m\u001b[0m\u001b[0;34m\u001b[0m\u001b[0m\n\u001b[1;32m     66\u001b[0m       \u001b[0mfiltered_tb\u001b[0m \u001b[0;34m=\u001b[0m \u001b[0m_process_traceback_frames\u001b[0m\u001b[0;34m(\u001b[0m\u001b[0me\u001b[0m\u001b[0;34m.\u001b[0m\u001b[0m__traceback__\u001b[0m\u001b[0;34m)\u001b[0m\u001b[0;34m\u001b[0m\u001b[0;34m\u001b[0m\u001b[0m\n\u001b[0;32m---> 67\u001b[0;31m       \u001b[0;32mraise\u001b[0m \u001b[0me\u001b[0m\u001b[0;34m.\u001b[0m\u001b[0mwith_traceback\u001b[0m\u001b[0;34m(\u001b[0m\u001b[0mfiltered_tb\u001b[0m\u001b[0;34m)\u001b[0m \u001b[0;32mfrom\u001b[0m \u001b[0;32mNone\u001b[0m\u001b[0;34m\u001b[0m\u001b[0;34m\u001b[0m\u001b[0m\n\u001b[0m\u001b[1;32m     68\u001b[0m     \u001b[0;32mfinally\u001b[0m\u001b[0;34m:\u001b[0m\u001b[0;34m\u001b[0m\u001b[0;34m\u001b[0m\u001b[0m\n\u001b[1;32m     69\u001b[0m       \u001b[0;32mdel\u001b[0m \u001b[0mfiltered_tb\u001b[0m\u001b[0;34m\u001b[0m\u001b[0;34m\u001b[0m\u001b[0m\n",
            "\u001b[0;32m/usr/local/lib/python3.8/dist-packages/keras/engine/training.py\u001b[0m in \u001b[0;36mtf__predict_function\u001b[0;34m(iterator)\u001b[0m\n\u001b[1;32m     13\u001b[0m                 \u001b[0;32mtry\u001b[0m\u001b[0;34m:\u001b[0m\u001b[0;34m\u001b[0m\u001b[0;34m\u001b[0m\u001b[0m\n\u001b[1;32m     14\u001b[0m                     \u001b[0mdo_return\u001b[0m \u001b[0;34m=\u001b[0m \u001b[0;32mTrue\u001b[0m\u001b[0;34m\u001b[0m\u001b[0;34m\u001b[0m\u001b[0m\n\u001b[0;32m---> 15\u001b[0;31m                     \u001b[0mretval_\u001b[0m \u001b[0;34m=\u001b[0m \u001b[0mag__\u001b[0m\u001b[0;34m.\u001b[0m\u001b[0mconverted_call\u001b[0m\u001b[0;34m(\u001b[0m\u001b[0mag__\u001b[0m\u001b[0;34m.\u001b[0m\u001b[0mld\u001b[0m\u001b[0;34m(\u001b[0m\u001b[0mstep_function\u001b[0m\u001b[0;34m)\u001b[0m\u001b[0;34m,\u001b[0m \u001b[0;34m(\u001b[0m\u001b[0mag__\u001b[0m\u001b[0;34m.\u001b[0m\u001b[0mld\u001b[0m\u001b[0;34m(\u001b[0m\u001b[0mself\u001b[0m\u001b[0;34m)\u001b[0m\u001b[0;34m,\u001b[0m \u001b[0mag__\u001b[0m\u001b[0;34m.\u001b[0m\u001b[0mld\u001b[0m\u001b[0;34m(\u001b[0m\u001b[0miterator\u001b[0m\u001b[0;34m)\u001b[0m\u001b[0;34m)\u001b[0m\u001b[0;34m,\u001b[0m \u001b[0;32mNone\u001b[0m\u001b[0;34m,\u001b[0m \u001b[0mfscope\u001b[0m\u001b[0;34m)\u001b[0m\u001b[0;34m\u001b[0m\u001b[0;34m\u001b[0m\u001b[0m\n\u001b[0m\u001b[1;32m     16\u001b[0m                 \u001b[0;32mexcept\u001b[0m\u001b[0;34m:\u001b[0m\u001b[0;34m\u001b[0m\u001b[0;34m\u001b[0m\u001b[0m\n\u001b[1;32m     17\u001b[0m                     \u001b[0mdo_return\u001b[0m \u001b[0;34m=\u001b[0m \u001b[0;32mFalse\u001b[0m\u001b[0;34m\u001b[0m\u001b[0;34m\u001b[0m\u001b[0m\n",
            "\u001b[0;31mValueError\u001b[0m: in user code:\n\n    File \"/usr/local/lib/python3.8/dist-packages/keras/engine/training.py\", line 1845, in predict_function  *\n        return step_function(self, iterator)\n    File \"/usr/local/lib/python3.8/dist-packages/keras/engine/training.py\", line 1834, in step_function  **\n        outputs = model.distribute_strategy.run(run_step, args=(data,))\n    File \"/usr/local/lib/python3.8/dist-packages/keras/engine/training.py\", line 1823, in run_step  **\n        outputs = model.predict_step(data)\n    File \"/usr/local/lib/python3.8/dist-packages/keras/engine/training.py\", line 1791, in predict_step\n        return self(x, training=False)\n    File \"/usr/local/lib/python3.8/dist-packages/keras/utils/traceback_utils.py\", line 67, in error_handler\n        raise e.with_traceback(filtered_tb) from None\n    File \"/usr/local/lib/python3.8/dist-packages/keras/engine/input_spec.py\", line 200, in assert_input_compatibility\n        raise ValueError(f'Layer \"{layer_name}\" expects {len(input_spec)} input(s),'\n\n    ValueError: Layer \"sequential\" expects 1 input(s), but it received 2 input tensors. Inputs received: [<tf.Tensor 'IteratorGetNext:0' shape=(32, 32, 32, 3) dtype=float32>, <tf.Tensor 'IteratorGetNext:1' shape=(32, 5) dtype=float32>]\n"
          ]
        }
      ]
    }
  ],
  "metadata": {
    "colab": {
      "provenance": []
    },
    "gpuClass": "standard",
    "kernelspec": {
      "display_name": "Python 3",
      "name": "python3"
    },
    "language_info": {
      "name": "python"
    }
  },
  "nbformat": 4,
  "nbformat_minor": 0
}